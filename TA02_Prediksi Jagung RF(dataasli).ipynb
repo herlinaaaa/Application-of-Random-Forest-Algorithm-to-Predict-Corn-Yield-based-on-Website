{
 "cells": [
  {
   "cell_type": "code",
   "execution_count": 1,
   "id": "e5522f2c",
   "metadata": {
    "id": "e5522f2c"
   },
   "outputs": [],
   "source": [
    "import pandas as pd\n",
    "import numpy as np\n",
    "from sklearn.ensemble import RandomForestRegressor"
   ]
  },
  {
   "cell_type": "code",
   "execution_count": 3,
   "id": "b5fe3976",
   "metadata": {
    "id": "b5fe3976",
    "outputId": "1c910e05-b6b9-40f7-f6cd-796c451d7544"
   },
   "outputs": [
    {
     "data": {
      "text/html": [
       "<div>\n",
       "<style scoped>\n",
       "    .dataframe tbody tr th:only-of-type {\n",
       "        vertical-align: middle;\n",
       "    }\n",
       "\n",
       "    .dataframe tbody tr th {\n",
       "        vertical-align: top;\n",
       "    }\n",
       "\n",
       "    .dataframe thead th {\n",
       "        text-align: right;\n",
       "    }\n",
       "</style>\n",
       "<table border=\"1\" class=\"dataframe\">\n",
       "  <thead>\n",
       "    <tr style=\"text-align: right;\">\n",
       "      <th></th>\n",
       "      <th>luas_panen</th>\n",
       "      <th>bibit</th>\n",
       "      <th>pupuk_npk</th>\n",
       "      <th>pupuk_urea</th>\n",
       "      <th>obat_insectisida</th>\n",
       "      <th>obat_nutrisil_campuran</th>\n",
       "      <th>hasil_panen</th>\n",
       "    </tr>\n",
       "  </thead>\n",
       "  <tbody>\n",
       "    <tr>\n",
       "      <th>0</th>\n",
       "      <td>6724.0</td>\n",
       "      <td>1</td>\n",
       "      <td>2</td>\n",
       "      <td>1</td>\n",
       "      <td>5</td>\n",
       "      <td>10</td>\n",
       "      <td>33444.0</td>\n",
       "    </tr>\n",
       "    <tr>\n",
       "      <th>1</th>\n",
       "      <td>4818.0</td>\n",
       "      <td>2</td>\n",
       "      <td>1</td>\n",
       "      <td>2</td>\n",
       "      <td>10</td>\n",
       "      <td>15</td>\n",
       "      <td>24201.0</td>\n",
       "    </tr>\n",
       "    <tr>\n",
       "      <th>2</th>\n",
       "      <td>3395.0</td>\n",
       "      <td>1</td>\n",
       "      <td>2</td>\n",
       "      <td>2</td>\n",
       "      <td>10</td>\n",
       "      <td>20</td>\n",
       "      <td>17846.0</td>\n",
       "    </tr>\n",
       "    <tr>\n",
       "      <th>3</th>\n",
       "      <td>2515.0</td>\n",
       "      <td>1</td>\n",
       "      <td>1</td>\n",
       "      <td>1</td>\n",
       "      <td>10</td>\n",
       "      <td>15</td>\n",
       "      <td>14095.0</td>\n",
       "    </tr>\n",
       "    <tr>\n",
       "      <th>4</th>\n",
       "      <td>2122.0</td>\n",
       "      <td>1</td>\n",
       "      <td>2</td>\n",
       "      <td>2</td>\n",
       "      <td>5</td>\n",
       "      <td>20</td>\n",
       "      <td>12782.0</td>\n",
       "    </tr>\n",
       "  </tbody>\n",
       "</table>\n",
       "</div>"
      ],
      "text/plain": [
       "   luas_panen  bibit  pupuk_npk  pupuk_urea  obat_insectisida  \\\n",
       "0      6724.0      1          2           1                 5   \n",
       "1      4818.0      2          1           2                10   \n",
       "2      3395.0      1          2           2                10   \n",
       "3      2515.0      1          1           1                10   \n",
       "4      2122.0      1          2           2                 5   \n",
       "\n",
       "   obat_nutrisil_campuran  hasil_panen  \n",
       "0                      10      33444.0  \n",
       "1                      15      24201.0  \n",
       "2                      20      17846.0  \n",
       "3                      15      14095.0  \n",
       "4                      20      12782.0  "
      ]
     },
     "execution_count": 3,
     "metadata": {},
     "output_type": "execute_result"
    }
   ],
   "source": [
    "dataset = pd.read_csv('dataJagung10_22.csv')\n",
    "dataset.head()"
   ]
  },
  {
   "cell_type": "code",
   "execution_count": 5,
   "id": "b77f551b",
   "metadata": {
    "id": "b77f551b",
    "outputId": "93f5c8d7-7bc7-4275-859e-6cb0936c865d"
   },
   "outputs": [
    {
     "name": "stdout",
     "output_type": "stream",
     "text": [
      "<class 'pandas.core.frame.DataFrame'>\n",
      "RangeIndex: 13 entries, 0 to 12\n",
      "Data columns (total 7 columns):\n",
      " #   Column                  Non-Null Count  Dtype  \n",
      "---  ------                  --------------  -----  \n",
      " 0   luas_panen              13 non-null     float64\n",
      " 1   bibit                   13 non-null     int64  \n",
      " 2   pupuk_npk               13 non-null     int64  \n",
      " 3   pupuk_urea              13 non-null     int64  \n",
      " 4   obat_insectisida        13 non-null     int64  \n",
      " 5   obat_nutrisil_campuran  13 non-null     int64  \n",
      " 6   hasil_panen             13 non-null     float64\n",
      "dtypes: float64(2), int64(5)\n",
      "memory usage: 860.0 bytes\n"
     ]
    }
   ],
   "source": [
    "dataset.info()"
   ]
  },
  {
   "cell_type": "code",
   "execution_count": 7,
   "id": "2b6687cf",
   "metadata": {
    "id": "2b6687cf",
    "outputId": "859d2667-f25c-4535-86dd-90d6a5b3423b"
   },
   "outputs": [
    {
     "data": {
      "text/plain": [
       "luas_panen                0\n",
       "bibit                     0\n",
       "pupuk_npk                 0\n",
       "pupuk_urea                0\n",
       "obat_insectisida          0\n",
       "obat_nutrisil_campuran    0\n",
       "hasil_panen               0\n",
       "dtype: int64"
      ]
     },
     "execution_count": 7,
     "metadata": {},
     "output_type": "execute_result"
    }
   ],
   "source": [
    "dataset.isnull().sum()"
   ]
  },
  {
   "cell_type": "code",
   "execution_count": 9,
   "id": "1c8805b4",
   "metadata": {
    "id": "1c8805b4",
    "outputId": "a37f38f2-8f45-4c92-c5ff-62bb9b3f8105"
   },
   "outputs": [
    {
     "data": {
      "image/png": "[encoded data removed]",
      "text/plain": [
       "<Figure size 1200x1000 with 9 Axes>"
      ]
     },
     "metadata": {},
     "output_type": "display_data"
    }
   ],
   "source": [
    "import seaborn as sns\n",
    "import matplotlib.pyplot as plt\n",
    "\n",
    "dataset.hist(figsize=(12, 10))\n",
    "plt.show()"
   ]
  },
  {
   "cell_type": "code",
   "execution_count": 11,
   "id": "1de7fe45",
   "metadata": {
    "id": "1de7fe45",
    "outputId": "e7fd5e9c-1189-4cb1-8d42-fbd0c51dfbdc"
   },
   "outputs": [
    {
     "data": {
      "image/png": "[encoded data removed]",
      "text/plain": [
       "<Figure size 1200x800 with 1 Axes>"
      ]
     },
     "metadata": {},
     "output_type": "display_data"
    }
   ],
   "source": [
    "plt.figure(figsize=(12, 8))\n",
    "sns.boxplot(data=dataset)\n",
    "plt.xticks(rotation=90)\n",
    "plt.show()"
   ]
  },
  {
   "cell_type": "code",
   "execution_count": 13,
   "id": "770b5fd8",
   "metadata": {
    "id": "770b5fd8",
    "outputId": "535a06e0-937a-418b-9bd6-48afd114ba36"
   },
   "outputs": [
    {
     "data": {
      "image/png": "[encoded data removed]",
      "text/plain": [
       "<Figure size 1000x800 with 2 Axes>"
      ]
     },
     "metadata": {},
     "output_type": "display_data"
    }
   ],
   "source": [
    "correlation_matrix = dataset.corr()\n",
    "plt.figure(figsize=(10, 8))\n",
    "sns.heatmap(correlation_matrix, annot=True, cmap='coolwarm', vmin=-1, vmax=1)\n",
    "plt.show()"
   ]
  },
  {
   "cell_type": "code",
   "execution_count": null,
   "id": "01b5c27e",
   "metadata": {
    "id": "01b5c27e"
   },
   "outputs": [],
   "source": [
    "manual_params44 = {\n",
    "    'n_estimators': 103,\n",
    "    'max_depth': 14,\n",
    "    'min_samples_split': 3,\n",
    "    'min_samples_leaf': 6\n",
    "}"
   ]
  },
  {
   "cell_type": "code",
   "execution_count": null,
   "id": "10addc1a",
   "metadata": {
    "id": "10addc1a",
    "outputId": "9d578a08-674c-4393-aa3a-8e782efcee04"
   },
   "outputs": [],
   "source": [
    "model_manual = RandomForestRegressor(**manual_params44, random_state=42)\n",
    "model_manual.fit(X_train, y_train)\n",
    "\n",
    "# Prediksi menggunakan model manual\n",
    "y_pred_manual = model_manual.predict(X_test)\n",
    "\n",
    "from sklearn.metrics import mean_absolute_error\n",
    "\n",
    "mae = mean_absolute_error(y_test, y_pred_manual)\n",
    "print(f'Mean Absolute Error: {mae}')"
   ]
  },
  {
   "cell_type": "code",
   "execution_count": null,
   "id": "d29893db",
   "metadata": {
    "id": "d29893db"
   },
   "outputs": [],
   "source": [
    "manual_params45 = {\n",
    "    'n_estimators': 147,\n",
    "    'max_depth': 10,\n",
    "    'min_samples_split': 2,\n",
    "    'min_samples_leaf': 3\n",
    "}"
   ]
  },
  {
   "cell_type": "code",
   "execution_count": null,
   "id": "02244285",
   "metadata": {
    "id": "02244285",
    "outputId": "785e9ee5-6152-4981-e3b8-85e732bf8684"
   },
   "outputs": [],
   "source": [
    "model_manual = RandomForestRegressor(**manual_params45, random_state=42)\n",
    "model_manual.fit(X_train, y_train)\n",
    "\n",
    "# Prediksi menggunakan model manual\n",
    "y_pred_manual = model_manual.predict(X_test)\n",
    "\n",
    "from sklearn.metrics import mean_absolute_error\n",
    "\n",
    "mae = mean_absolute_error(y_test, y_pred_manual)\n",
    "print(f'Mean Absolute Error: {mae}')"
   ]
  },
  {
   "cell_type": "code",
   "execution_count": null,
   "id": "888d46a4",
   "metadata": {
    "id": "888d46a4"
   },
   "outputs": [],
   "source": [
    "manual_params46 = {\n",
    "    'n_estimators': 153,\n",
    "    'max_depth': 7,\n",
    "    'min_samples_split': 4,\n",
    "    'min_samples_leaf': 7\n",
    "}"
   ]
  },
  {
   "cell_type": "code",
   "execution_count": null,
   "id": "e0b5b10d",
   "metadata": {
    "id": "e0b5b10d",
    "outputId": "2e7819de-e91c-413e-e3bb-e660b6c34d46"
   },
   "outputs": [],
   "source": [
    "model_manual = RandomForestRegressor(**manual_params46, random_state=42)\n",
    "model_manual.fit(X_train, y_train)\n",
    "\n",
    "# Prediksi menggunakan model manual\n",
    "y_pred_manual = model_manual.predict(X_test)\n",
    "\n",
    "from sklearn.metrics import mean_absolute_error\n",
    "\n",
    "mae = mean_absolute_error(y_test, y_pred_manual)\n",
    "print(f'Mean Absolute Error: {mae}')"
   ]
  },
  {
   "cell_type": "code",
   "execution_count": null,
   "id": "b9b79824",
   "metadata": {
    "id": "b9b79824"
   },
   "outputs": [],
   "source": [
    "manual_params47 = {\n",
    "    'n_estimators': 107,\n",
    "    'max_depth': 9,\n",
    "    'min_samples_split': 7,\n",
    "    'min_samples_leaf': 8\n",
    "}"
   ]
  },
  {
   "cell_type": "code",
   "execution_count": null,
   "id": "8268c28e",
   "metadata": {
    "id": "8268c28e",
    "outputId": "2cbadc34-5ad1-4dea-a586-1b965edac986"
   },
   "outputs": [],
   "source": [
    "model_manual = RandomForestRegressor(**manual_params47, random_state=42)\n",
    "model_manual.fit(X_train, y_train)\n",
    "\n",
    "# Prediksi menggunakan model manual\n",
    "y_pred_manual = model_manual.predict(X_test)\n",
    "\n",
    "from sklearn.metrics import mean_absolute_error\n",
    "\n",
    "mae = mean_absolute_error(y_test, y_pred_manual)\n",
    "print(f'Mean Absolute Error: {mae}')"
   ]
  },
  {
   "cell_type": "code",
   "execution_count": null,
   "id": "2573bb0a",
   "metadata": {
    "id": "2573bb0a"
   },
   "outputs": [],
   "source": [
    "manual_params48 = {\n",
    "    'n_estimators': 138,\n",
    "    'max_depth': 8,\n",
    "    'min_samples_split': 6,\n",
    "    'min_samples_leaf': 9\n",
    "}"
   ]
  },
  {
   "cell_type": "code",
   "execution_count": null,
   "id": "81ad4e1e",
   "metadata": {
    "id": "81ad4e1e",
    "outputId": "977f772c-1190-481f-f6aa-9250573fb06a"
   },
   "outputs": [],
   "source": [
    "model_manual = RandomForestRegressor(**manual_params48, random_state=42)\n",
    "model_manual.fit(X_train, y_train)\n",
    "\n",
    "# Prediksi menggunakan model manual\n",
    "y_pred_manual = model_manual.predict(X_test)\n",
    "\n",
    "from sklearn.metrics import mean_absolute_error\n",
    "\n",
    "mae = mean_absolute_error(y_test, y_pred_manual)\n",
    "print(f'Mean Absolute Error: {mae}')"
   ]
  },
  {
   "cell_type": "code",
   "execution_count": null,
   "id": "b508356f",
   "metadata": {
    "id": "b508356f"
   },
   "outputs": [],
   "source": [
    "manual_params49 = {\n",
    "    'n_estimators': 114,\n",
    "    'max_depth': 7,\n",
    "    'min_samples_split': 8,\n",
    "    'min_samples_leaf': 8\n",
    "}"
   ]
  },
  {
   "cell_type": "code",
   "execution_count": null,
   "id": "9f4eca2e",
   "metadata": {
    "id": "9f4eca2e",
    "outputId": "decb0825-0a87-4d9c-f371-f917147adb4b"
   },
   "outputs": [],
   "source": [
    "model_manual = RandomForestRegressor(**manual_params49, random_state=42)\n",
    "model_manual.fit(X_train, y_train)\n",
    "\n",
    "# Prediksi menggunakan model manual\n",
    "y_pred_manual = model_manual.predict(X_test)\n",
    "\n",
    "from sklearn.metrics import mean_absolute_error\n",
    "\n",
    "mae = mean_absolute_error(y_test, y_pred_manual)\n",
    "print(f'Mean Absolute Error: {mae}')"
   ]
  },
  {
   "cell_type": "code",
   "execution_count": null,
   "id": "1f2def8b",
   "metadata": {
    "id": "1f2def8b"
   },
   "outputs": [],
   "source": [
    "manual_params50 = {\n",
    "    'n_estimators': 64,\n",
    "    'max_depth': 18,\n",
    "    'min_samples_split': 4,\n",
    "    'min_samples_leaf': 8\n",
    "}"
   ]
  },
  {
   "cell_type": "code",
   "execution_count": null,
   "id": "2acd476d",
   "metadata": {
    "id": "2acd476d",
    "outputId": "c6a7d5e9-ef06-499b-d7ad-c211fe21ac2e"
   },
   "outputs": [],
   "source": [
    "model_manual = RandomForestRegressor(**manual_params50, random_state=42)\n",
    "model_manual.fit(X_train, y_train)\n",
    "\n",
    "# Prediksi menggunakan model manual\n",
    "y_pred_manual = model_manual.predict(X_test)\n",
    "\n",
    "from sklearn.metrics import mean_absolute_error\n",
    "\n",
    "mae = mean_absolute_error(y_test, y_pred_manual)\n",
    "print(f'Mean Absolute Error: {mae}')"
   ]
  },
  {
   "cell_type": "markdown",
   "id": "1c0f9ef7",
   "metadata": {
    "id": "1c0f9ef7"
   },
   "source": [
    "# Menggunakan Parameter Terbaik kedalam Random Forest"
   ]
  },
  {
   "cell_type": "code",
   "execution_count": null,
   "id": "9f96035a",
   "metadata": {
    "id": "9f96035a",
    "outputId": "4966ada0-5372-4b10-b5f7-151c4b09d626"
   },
   "outputs": [],
   "source": [
    "from sklearn.metrics import mean_absolute_error, mean_squared_error, r2_score\n",
    "\n",
    "rf_best = RandomForestRegressor(max_depth=5,\n",
    "                                min_samples_leaf=1,\n",
    "                                min_samples_split=8,\n",
    "                                n_estimators=88,\n",
    "                                random_state=42)\n",
    "\n",
    "rf_best.fit(X_train, y_train)\n",
    "\n",
    "y_pred_best = rf_best.predict(X_test)\n",
    "\n",
    "# Evaluasi model terbaik\n",
    "mae = mean_absolute_error(y_test, y_pred_best)\n",
    "print(f'Mean Absolute Error: {mae}')\n",
    "mse = mean_squared_error(y_test, y_pred_best)\n",
    "print(f'Mean Squared Error: {mse}')\n",
    "rmse = np.sqrt(mse)\n",
    "print(f'RMSE: {rmse}')\n",
    "r2 = r2_score(y_test, y_pred_best)\n",
    "print(f'R2 Score: {r2}')\n",
    "\n",
    "y_test_nonzero = y_test[y_test != 0]  \n",
    "y_pred_best_nonzero = y_pred_best[y_test != 0]\n",
    "mape = np.mean(np.abs((y_test_nonzero - y_pred_best_nonzero) / y_test_nonzero)) * 100\n",
    "print(f'Mean Absolute Percentage Error: {mape}%')\n",
    "\n",
    "# Kategorisasi MAPE (contoh kategorisasi)\n",
    "if mape < 10:\n",
    "    print('Kategori MAPE: Sangat Baik')\n",
    "elif mape < 20:\n",
    "    print('Kategori MAPE: Baik')\n",
    "elif mape < 30:\n",
    "    print('Kategori MAPE: Cukup Baik')\n",
    "elif mape < 50:\n",
    "    print('Kategori MAPE: Kurang Baik')\n",
    "else:\n",
    "    print('Kategori MAPE: Buruk')"
   ]
  },
  {
   "cell_type": "code",
   "execution_count": null,
   "id": "e0669ac5",
   "metadata": {
    "id": "e0669ac5"
   },
   "outputs": [],
   "source": [
    "comparison_df = pd.DataFrame({'Actual': y_test, 'Predicted': y_pred_best})"
   ]
  },
  {
   "cell_type": "code",
   "execution_count": null,
   "id": "1837ad5c",
   "metadata": {
    "id": "1837ad5c",
    "outputId": "84e457b3-0c09-48d5-83f1-a2332d3b5ac2"
   },
   "outputs": [],
   "source": [
    "import matplotlib.pyplot as plt\n",
    "import numpy as np\n",
    "\n",
    "# MAPE\n",
    "def calculate_mape(actual, predicted):\n",
    "    return np.mean(np.abs((actual - predicted) / actual)) * 100\n",
    "\n",
    "mape = calculate_mape(comparison_df['Actual'].values, comparison_df['Predicted'].values)\n",
    "\n",
    "if mape < 10:\n",
    "    mape_category = \"Sangat Baik\"\n",
    "elif mape < 20:\n",
    "    print('Kategori MAPE: Baik')\n",
    "elif mape < 30:\n",
    "    print('Kategori MAPE: Cukup Baik')\n",
    "elif mape < 50:\n",
    "    print('Kategori MAPE: Kurang Baik')\n",
    "else:\n",
    "    print('Kategori MAPE: Buruk')\n",
    "\n",
    "plt.figure(figsize=(20, 10))\n",
    "plt.plot(comparison_df['Actual'].values, label='Actual', color='b', linewidth=2)\n",
    "plt.plot(comparison_df['Predicted'].values, label='Predicted', color='r', linestyle='--', linewidth=2)\n",
    "plt.xlabel('Samples', fontsize=16)\n",
    "plt.ylabel('Hasil Panen', fontsize=16)\n",
    "plt.title('Perbandingan Hasil Panen Asli dan Prediksi Dengan Nilai Parameter', fontsize=18)\n",
    "plt.legend(fontsize=14)\n",
    "plt.grid(True)\n",
    "plt.xticks(fontsize=14)\n",
    "plt.yticks(fontsize=14)\n",
    "\n",
    "# Menambahkan MAPE dan kategorinya\n",
    "plt.text(0.5, 0.1, f'MAPE: {mape:.2f}% ({mape_category})', fontsize=14, color='black', transform=plt.gca().transAxes,\n",
    "         bbox=dict(facecolor='white', edgecolor='black', boxstyle='round,pad=0.5'))\n",
    "\n",
    "plt.show()"
   ]
  },
  {
   "cell_type": "code",
   "execution_count": null,
   "id": "99db0434",
   "metadata": {
    "id": "99db0434"
   },
   "outputs": [],
   "source": [
    "new_data = pd.DataFrame({\n",
    "    'luas_panen': [2928],\n",
    "    'bibit': [1],\n",
    "    'pupuk_npk': [2],\n",
    "    'pupuk_urea': [2],\n",
    "    'obat_insectisida': [9],\n",
    "})"
   ]
  },
  {
   "cell_type": "code",
   "execution_count": null,
   "id": "ab61d44e",
   "metadata": {
    "id": "ab61d44e",
    "outputId": "ce634985-ce45-481a-c830-4b0164f211fb"
   },
   "outputs": [],
   "source": [
    "prediksi_hasil_panen = rf_best.predict(new_data)\n",
    "print(f\"Prediksi hasil panen untuk data baru: {prediksi_hasil_panen[0]}\")"
   ]
  },
  {
   "cell_type": "markdown",
   "id": "985fbefe-ae87-4030-88ad-3fa8fbd84b16",
   "metadata": {
    "id": "a61f99ab"
   },
   "source": [
    "# Melakukan perbandingan Random Forest yang memakai parameter terbaik dengan Random Forest yang tidak memakai parameter"
   ]
  },
  {
   "cell_type": "code",
   "execution_count": null,
   "id": "1afa9315",
   "metadata": {
    "id": "1afa9315",
    "outputId": "7cd6ae50-f0a5-472c-e6ac-eafeaf4083b9"
   },
   "outputs": [],
   "source": [
    "model = RandomForestRegressor(random_state=42)\n",
    "\n",
    "model.fit(X_train, y_train)\n",
    "\n",
    "y_pred_model = model.predict(X_test)\n",
    "\n",
    "# Evaluasi model terbaik\n",
    "mae = mean_absolute_error(y_test, y_pred_model)\n",
    "print(f'Mean Absolute Error: {mae}')\n",
    "mse = mean_squared_error(y_test, y_pred_model)\n",
    "print(f'Mean Squared Error: {mse}')\n",
    "rmse = np.sqrt(mse)\n",
    "print(f'RMSE: {rmse}')\n",
    "r2 = r2_score(y_test, y_pred_model)\n",
    "print(f'R2 Score: {r2}')\n",
    "# Calculate Mean Absolute Percentage Error (MAPE) manually\n",
    "y_test_nonzero = y_test[y_test != 0]  # Avoid division by zero\n",
    "y_pred_model_nonzero = y_pred_model[y_test != 0]\n",
    "mape = np.mean(np.abs((y_test_nonzero - y_pred_model_nonzero) / y_test_nonzero)) * 100\n",
    "print(f'Mean Absolute Percentage Error: {mape}%')\n",
    "\n",
    "# Kategorisasi MAPE (contoh kategorisasi)\n",
    "if mape < 10:\n",
    "    print('Kategori MAPE: Sangat Baik')\n",
    "elif mape < 20:\n",
    "    print('Kategori MAPE: Baik')\n",
    "elif mape < 30:\n",
    "    print('Kategori MAPE: Cukup Baik')\n",
    "elif mape < 50:\n",
    "    print('Kategori MAPE: Kurang Baik')\n",
    "else:\n",
    "    print('Kategori MAPE: Buruk')"
   ]
  },
  {
   "cell_type": "code",
   "execution_count": null,
   "id": "48d6e3e7-5327-4383-8f39-e382f1bbcf6b",
   "metadata": {},
   "outputs": [],
   "source": [
    "comparison_df = pd.DataFrame({'Actual': y_test, 'Predicted': y_pred_model})"
   ]
  },
  {
   "cell_type": "code",
   "execution_count": null,
   "id": "d2cd807d-897c-4078-90bb-53855e3bf5d6",
   "metadata": {},
   "outputs": [],
   "source": [
    "import matplotlib.pyplot as plt\n",
    "import numpy as np\n",
    "\n",
    "# Menghitung MAPE\n",
    "def calculate_mape(actual, predicted):\n",
    "    return np.mean(np.abs((actual - predicted) / actual)) * 100\n",
    "\n",
    "mape = calculate_mape(comparison_df['Actual'].values, comparison_df['Predicted'].values)\n",
    "\n",
    "# Menentukan kategori MAPE\n",
    "if mape < 10:\n",
    "    mape_category = 'Sangat Baik'\n",
    "elif mape < 20:\n",
    "    mape_category = 'Baik'\n",
    "elif mape < 30:\n",
    "    mape_category = 'Cukup Baik'\n",
    "elif mape < 50:\n",
    "    mape_category = 'Kurang Baik'\n",
    "else:\n",
    "    mape_category = 'Buruk'\n",
    "\n",
    "print(f'Kategori MAPE: {mape_category}')\n",
    "\n",
    "# Membuat plot\n",
    "plt.figure(figsize=(20, 10))\n",
    "plt.plot(comparison_df['Actual'].values, label='Actual', color='b', linewidth=2)\n",
    "plt.plot(comparison_df['Predicted'].values, label='Predicted', color='g', linestyle='--', linewidth=2)\n",
    "plt.xlabel('Samples', fontsize=16)\n",
    "plt.ylabel('Hasil Panen', fontsize=16)\n",
    "plt.title('Perbandingan Hasil Panen Asli dan Prediksi Tanpa Nilai Parameter', fontsize=18)\n",
    "plt.legend(fontsize=14)\n",
    "plt.grid(True)\n",
    "plt.xticks(fontsize=14)\n",
    "plt.yticks(fontsize=14)\n",
    "\n",
    "# Menambahkan MAPE dan kategorinya\n",
    "plt.text(0.5, 0.1, f'MAPE: {mape:.2f}% ({mape_category})', fontsize=14, color='black', transform=plt.gca().transAxes,\n",
    "         bbox=dict(facecolor='white', edgecolor='black', boxstyle='round,pad=0.5'))\n",
    "\n",
    "plt.show()\n"
   ]
  },
  {
   "cell_type": "code",
   "execution_count": null,
   "id": "98bca6cc-cfcd-49ad-a66f-54760b13f7ec",
   "metadata": {},
   "outputs": [],
   "source": [
    "new_data = pd.DataFrame({\n",
    "    'luas_panen': [6724],\n",
    "    'bibit': [1],\n",
    "    'pupuk_npk': [2],\n",
    "    'pupuk_urea': [1],\n",
    "    'obat_insectisida': [5],\n",
    "})"
   ]
  },
  {
   "cell_type": "code",
   "execution_count": null,
   "id": "a9f83b00-39f3-4359-9d9e-4028ecff4308",
   "metadata": {},
   "outputs": [],
   "source": [
    "prediksi_hasil_panen = model.predict(new_data)\n",
    "print(f\"Prediksi hasil panen untuk data baru: {prediksi_hasil_panen[0]}\")"
   ]
  },
  {
   "cell_type": "markdown",
   "id": "46e70dee",
   "metadata": {
    "id": "46e70dee"
   },
   "source": [
    "# Melakukan Perbandingan menggunakan Decision Tree Regresi"
   ]
  },
  {
   "cell_type": "code",
   "execution_count": null,
   "id": "678c14b6",
   "metadata": {
    "id": "678c14b6",
    "outputId": "1c827ad7-4984-4bfa-fbbe-57e2692a7976"
   },
   "outputs": [],
   "source": [
    "from sklearn.tree import DecisionTreeRegressor\n",
    "\n",
    "clf = DecisionTreeRegressor(max_depth=5,\n",
    "                            min_samples_leaf=1,\n",
    "                            min_samples_split=8,\n",
    "                            random_state=42)\n",
    "\n",
    "clf.fit(X_train, y_train)\n",
    "\n",
    "y_pred_clf = clf.predict(X_test)\n",
    "\n",
    "# Evaluasi model DecisionTreeRegressor\n",
    "mae_clf = mean_absolute_error(y_test, y_pred_clf)\n",
    "print(f'Mean Absolute Error: {mae_clf}')\n",
    "mse_clf = mean_squared_error(y_test, y_pred_clf)\n",
    "print(f'Mean Squared Error: {mse_clf}')\n",
    "rmse_clf = np.sqrt(mse_clf)\n",
    "print(f'RMSE: {rmse_clf}')\n",
    "r2_clf = r2_score(y_test, y_pred_clf)\n",
    "print(f'R2 Score: {r2_clf}')\n",
    "\n",
    "# Menghitung Mean Absolute Percentage Error (MAPE) secara manual\n",
    "y_test_nonzero = y_test[y_test != 0]  # Menghindari pembagian dengan nol\n",
    "y_pred_clf_nonzero = y_pred_clf[y_test != 0]\n",
    "mape_clf = np.mean(np.abs((y_test_nonzero - y_pred_clf_nonzero) / y_test_nonzero)) * 100\n",
    "print(f'Mean Absolute Percentage Error: {mape_clf}%')\n",
    "\n",
    "# Kategorisasi MAPE (contoh kategorisasi)\n",
    "if mape_clf < 10:\n",
    "    print('Kategori MAPE: Sangat Baik')\n",
    "elif mape_clf < 20:\n",
    "    print('Kategori MAPE: Baik')\n",
    "elif mape_clf < 30:\n",
    "    print('Kategori MAPE: Cukup Baik')\n",
    "elif mape_clf < 50:\n",
    "    print('Kategori MAPE: Kurang Baik')\n",
    "else:\n",
    "    print('Kategori MAPE: Buruk')"
   ]
  },
  {
   "cell_type": "code",
   "execution_count": null,
   "id": "9022a94c-549f-4344-8702-1dd985be7507",
   "metadata": {},
   "outputs": [],
   "source": [
    "comparison_df = pd.DataFrame({'Actual': y_test, 'Predicted': y_pred_clf})"
   ]
  },
  {
   "cell_type": "code",
   "execution_count": null,
   "id": "bcfc0b3b-9202-4475-832e-30458ccf56d2",
   "metadata": {},
   "outputs": [],
   "source": [
    "import matplotlib.pyplot as plt\n",
    "import numpy as np\n",
    "\n",
    "# Menghitung MAPE\n",
    "def calculate_mape(actual, predicted):\n",
    "    return np.mean(np.abs((actual - predicted) / actual)) * 100\n",
    "\n",
    "mape = calculate_mape(comparison_df['Actual'].values, comparison_df['Predicted'].values)\n",
    "\n",
    "# Menentukan kategori MAPE\n",
    "if mape < 10:\n",
    "    mape_category = \"Sangat Baik\"\n",
    "elif mape < 20:\n",
    "    print('Kategori MAPE: Baik')\n",
    "elif mape < 30:\n",
    "    print('Kategori MAPE: Cukup Baik')\n",
    "elif mape < 50:\n",
    "    print('Kategori MAPE: Kurang Baik')\n",
    "else:\n",
    "    print('Kategori MAPE: Buruk')\n",
    "\n",
    "# Membuat plot\n",
    "plt.figure(figsize=(20, 10))\n",
    "plt.plot(comparison_df['Actual'].values, label='Actual', color='b', linewidth=2)\n",
    "plt.plot(comparison_df['Predicted'].values, label='Predicted', color='y', linestyle='--', linewidth=2)\n",
    "plt.xlabel('Samples', fontsize=16)\n",
    "plt.ylabel('Hasil Panen', fontsize=16)\n",
    "plt.title('Perbandingan Hasil Panen Asli dan Prediksi Dengan Decision Tree', fontsize=18)\n",
    "plt.legend(fontsize=14)\n",
    "plt.grid(True)\n",
    "plt.xticks(fontsize=14)\n",
    "plt.yticks(fontsize=14)\n",
    "\n",
    "# Menambahkan MAPE dan kategorinya\n",
    "plt.text(0.5, 0.1, f'MAPE: {mape:.2f}% ({mape_category})', fontsize=14, color='black', transform=plt.gca().transAxes,\n",
    "         bbox=dict(facecolor='white', edgecolor='black', boxstyle='round,pad=0.5'))\n",
    "\n",
    "plt.show()"
   ]
  },
  {
   "cell_type": "code",
   "execution_count": null,
   "id": "047209da-b6e7-45da-ac5c-be07514ad0fd",
   "metadata": {},
   "outputs": [],
   "source": [
    "new_data = pd.DataFrame({\n",
    "    'luas_panen': [2928],\n",
    "    'bibit': [1],\n",
    "    'pupuk_npk': [2],\n",
    "    'pupuk_urea': [2],\n",
    "    'obat_insectisida': [9],\n",
    "})"
   ]
  },
  {
   "cell_type": "code",
   "execution_count": null,
   "id": "0768d3ad-07d4-4cf9-8f9c-1bf1bf9db2d8",
   "metadata": {},
   "outputs": [],
   "source": [
    "prediksi_hasil_panen = clf.predict(new_data)\n",
    "print(f\"Prediksi hasil panen untuk data baru: {prediksi_hasil_panen[0]}\")"
   ]
  },
  {
   "cell_type": "code",
   "execution_count": null,
   "id": "573484fb-d7b7-42c7-9c6a-b59eed052f35",
   "metadata": {},
   "outputs": [],
   "source": [
    "import matplotlib.pyplot as plt\n",
    "import numpy as np\n",
    "from sklearn.metrics import mean_absolute_error\n",
    "\n",
    "# Data yang diperlukan: y_train, y_test, y_pred_train_best, y_pred_best, y_pred_train_model, y_pred_model, y_pred_train_clf, y_pred_clf\n",
    "# Misalnya, kita akan menggunakan Mean Absolute Error (MAE) sebagai metrik performansi\n",
    "y_pred_train_best = rf_best.predict(X_train)\n",
    "y_pred_train_model = model.predict(X_train)\n",
    "y_pred_train_clf = clf.predict(X_train)\n",
    "\n",
    "# Menghitung MAE untuk masing-masing model\n",
    "mae_best_train = mean_absolute_error(y_train, y_pred_train_best)\n",
    "mae_best_test = mean_absolute_error(y_test, y_pred_best)\n",
    "mae_model_train = mean_absolute_error(y_train, y_pred_train_model)\n",
    "mae_model_test = mean_absolute_error(y_test, y_pred_model)\n",
    "mae_clf_train = mean_absolute_error(y_train, y_pred_train_clf)\n",
    "mae_clf_test = mean_absolute_error(y_test, y_pred_clf)\n",
    "\n",
    "# Plot performansi untuk masing-masing model\n",
    "labels = ['RF Best Model', 'RF Default Model', 'Decision Tree']\n",
    "train_mae = [mae_best_train, mae_model_train, mae_clf_train]\n",
    "test_mae = [mae_best_test, mae_model_test, mae_clf_test]\n",
    "\n",
    "x = np.arange(len(labels))  # Label locations\n",
    "width = 0.35  # Width of the bars\n",
    "\n",
    "fig, ax = plt.subplots(figsize=(10, 6))\n",
    "\n",
    "# Bar plot untuk MAE pada data training dan test\n",
    "rects1 = ax.bar(x - width/2, train_mae, width, label='Train MAE')\n",
    "rects2 = ax.bar(x + width/2, test_mae, width, label='Test MAE')\n",
    "\n",
    "# Menambahkan teks dan label\n",
    "ax.set_xlabel('Model')\n",
    "ax.set_ylabel('Mean Absolute Error')\n",
    "ax.set_title('Performance Comparison of Models (MAE)')\n",
    "ax.set_xticks(x)\n",
    "ax.set_xticklabels(labels)\n",
    "ax.legend()\n",
    "\n",
    "# Menambahkan label nilai di atas bar\n",
    "def autolabel(rects):\n",
    "    for rect in rects:\n",
    "        height = rect.get_height()\n",
    "        ax.annotate(f'{height:.2f}',\n",
    "                    xy=(rect.get_x() + rect.get_width() / 2, height),\n",
    "                    xytext=(0, 3),  # Offset label di atas bar\n",
    "                    textcoords=\"offset points\",\n",
    "                    ha='center', va='bottom')\n",
    "\n",
    "autolabel(rects1)\n",
    "autolabel(rects2)\n",
    "\n",
    "plt.tight_layout()\n",
    "plt.show()\n"
   ]
  },
  {
   "cell_type": "code",
   "execution_count": null,
   "id": "5880da1c-81cc-41e3-b092-da15365e8219",
   "metadata": {},
   "outputs": [],
   "source": [
    "import numpy as np\n",
    "import pandas as pd\n",
    "import matplotlib.pyplot as plt\n",
    "from sklearn.ensemble import RandomForestRegressor\n",
    "from sklearn.tree import DecisionTreeRegressor\n",
    "from sklearn.model_selection import KFold\n",
    "from sklearn.metrics import mean_absolute_error\n",
    "\n",
    "# Memuat dataset\n",
    "data = pd.read_csv('datasetTugasAkhir.csv')\n",
    "\n",
    "# Memisahkan fitur (X) dan target (y)\n",
    "X = data.drop(columns='hasil_panen').values  # Ganti 'target_column_name' dengan nama kolom target Anda\n",
    "y = data['hasil_panen'].values  # Ganti 'target_column_name' dengan nama kolom target Anda\n",
    "\n",
    "# Fungsi untuk menghitung training dan validation loss menggunakan K-Fold cross-validation\n",
    "def calculate_losses(model, X, y, n_splits=5):\n",
    "    kf = KFold(n_splits=n_splits, shuffle=True, random_state=42)\n",
    "    train_losses = []\n",
    "    val_losses = []\n",
    "    \n",
    "    for train_index, val_index in kf.split(X):\n",
    "        X_train, X_val = X[train_index], X[val_index]\n",
    "        y_train, y_val = y[train_index], y[val_index]\n",
    "        \n",
    "        model.fit(X_train, y_train)\n",
    "        \n",
    "        y_train_pred = model.predict(X_train)\n",
    "        y_val_pred = model.predict(X_val)\n",
    "        \n",
    "        train_loss = mean_absolute_error(y_train, y_train_pred)\n",
    "        val_loss = mean_absolute_error(y_val, y_val_pred)\n",
    "        \n",
    "        train_losses.append(train_loss)\n",
    "        val_losses.append(val_loss)\n",
    "    \n",
    "    return train_losses, val_losses\n",
    "\n",
    "# Model yang digunakan\n",
    "rf_best = RandomForestRegressor(max_depth=5, min_samples_leaf=1, min_samples_split=8, n_estimators=88, random_state=42)\n",
    "rf_default = RandomForestRegressor(random_state=42)\n",
    "dt = DecisionTreeRegressor(max_depth=5, min_samples_leaf=1, min_samples_split=8, random_state=42)\n",
    "\n",
    "# Menghitung losses\n",
    "rf_best_train_losses, rf_best_val_losses = calculate_losses(rf_best, X, y)\n",
    "rf_default_train_losses, rf_default_val_losses = calculate_losses(rf_default, X, y)\n",
    "dt_train_losses, dt_val_losses = calculate_losses(dt, X, y)\n",
    "\n",
    "# Plot losses\n",
    "plt.figure(figsize=(12, 6))\n",
    "\n",
    "plt.plot(rf_best_train_losses, label='RF Best Model - Train Loss', marker='o')\n",
    "plt.plot(rf_best_val_losses, label='RF Best Model - Val Loss', marker='o')\n",
    "\n",
    "plt.plot(rf_default_train_losses, label='RF Default Model - Train Loss', marker='s')\n",
    "plt.plot(rf_default_val_losses, label='RF Default Model - Val Loss', marker='s')\n",
    "\n",
    "plt.plot(dt_train_losses, label='Decision Tree - Train Loss', marker='^')\n",
    "plt.plot(dt_val_losses, label='Decision Tree - Val Loss', marker='^')\n",
    "\n",
    "plt.xlabel('Fold')\n",
    "plt.ylabel('Mean Absolute Error')\n",
    "plt.title('Training and Validation Losses for Different Models')\n",
    "plt.legend()\n",
    "plt.grid(True)\n",
    "plt.tight_layout()\n",
    "plt.show()\n"
   ]
  },
  {
   "cell_type": "code",
   "execution_count": null,
   "id": "4cd6c2f9-05fb-4396-9837-e138b0744cb7",
   "metadata": {},
   "outputs": [],
   "source": []
  }
 ],
 "metadata": {
  "colab": {
   "provenance": []
  },
  "kernelspec": {
   "display_name": "Python 3 (ipykernel)",
   "language": "python",
   "name": "python3"
  },
  "language_info": {
   "codemirror_mode": {
    "name": "ipython",
    "version": 3
   },
   "file_extension": ".py",
   "mimetype": "text/x-python",
   "name": "python",
   "nbconvert_exporter": "python",
   "pygments_lexer": "ipython3",
   "version": "3.11.7"
  }
 },
 "nbformat": 4,
 "nbformat_minor": 5
}
